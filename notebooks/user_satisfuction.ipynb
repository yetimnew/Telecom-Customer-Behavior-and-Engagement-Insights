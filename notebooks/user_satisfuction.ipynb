{
 "cells": [
  {
   "cell_type": "code",
   "execution_count": 24,
   "metadata": {},
   "outputs": [],
   "source": [
    "# Import necessary libraries\n",
    "import pandas as pd\n",
    "import matplotlib.pyplot as plt\n",
    "import seaborn as sns\n",
    "import sys\n",
    "import os\n",
    "import numpy as np\n"
   ]
  },
  {
   "cell_type": "code",
   "execution_count": 16,
   "metadata": {},
   "outputs": [],
   "source": [
    "project_path = r\"D:\\10x\\Projects\\Telecom-Customer-Behavior-and-Engagement-Insights\"\n",
    "if project_path not in sys.path:\n",
    "    sys.path.append(project_path)"
   ]
  },
  {
   "cell_type": "code",
   "execution_count": 25,
   "metadata": {},
   "outputs": [],
   "source": [
    "from scripts.user_satisfaction import UserSatisfactionAnalysis"
   ]
  },
  {
   "cell_type": "code",
   "execution_count": 18,
   "metadata": {},
   "outputs": [],
   "source": [
    "# Load the data from CSV file\n",
    "data_file = \"D:\\\\10x\\\\Projects\\\\Telecom-Customer-Behavior-and-Engagement-Insights/Data/updated_data.csv\"  # Replace with the path to your CSV file\n",
    "data = pd.read_csv(data_file)\n"
   ]
  },
  {
   "cell_type": "code",
   "execution_count": 22,
   "metadata": {},
   "outputs": [],
   "source": [
    "data = data[[\n",
    "    'MSISDN/Number', 'Activity Duration DL (ms)', 'Activity Duration UL (ms)',\n",
    "    'Avg RTT DL (ms)', 'Avg RTT UL (ms)', 'TCP DL Retrans. Vol (Bytes)',\n",
    "    'Total DL (Bytes)', 'Total UL (Bytes)'\n",
    "]].dropna()"
   ]
  },
  {
   "cell_type": "code",
   "execution_count": 29,
   "metadata": {},
   "outputs": [],
   "source": [
    "# Step 2: Initialize Analysis\n",
    "engagement_centroid = [np.array([50000, 30000])]  # Replace with actual centroids\n",
    "experience_centroid = [np.array([100, 200, 5000])]  # Replace with actual centroids\n"
   ]
  },
  {
   "cell_type": "code",
   "execution_count": 31,
   "metadata": {},
   "outputs": [
    {
     "name": "stdout",
     "output_type": "stream",
     "text": [
      "Engagement Centroids: [[ 1916020.37273711  1505265.62037806]\n",
      " [15856147.05488999 10945197.65020875]\n",
      " [40219346.34366893 34091454.82299761]]\n"
     ]
    }
   ],
   "source": [
    "from sklearn.cluster import KMeans\n",
    "\n",
    "# Example data for engagement metrics (replace with your dataset's actual columns)\n",
    "engagement_features = data[['Activity Duration DL (ms)', 'Activity Duration UL (ms)']]\n",
    "\n",
    "# Perform k-means clustering\n",
    "kmeans_engagement = KMeans(n_clusters=3, random_state=42)\n",
    "kmeans_engagement.fit(engagement_features)\n",
    "\n",
    "# Get centroids\n",
    "engagement_centroids = kmeans_engagement.cluster_centers_\n",
    "print(\"Engagement Centroids:\", engagement_centroids)"
   ]
  },
  {
   "cell_type": "code",
   "execution_count": 32,
   "metadata": {},
   "outputs": [
    {
     "name": "stdout",
     "output_type": "stream",
     "text": [
      "Experience Centroids: [[1.69341560e+02 2.59220028e+01 9.22501626e+06]\n",
      " [1.17933054e+02 3.51882845e+01 1.26222307e+09]\n",
      " [1.10267123e+02 4.09931507e+01 3.20846660e+09]]\n"
     ]
    }
   ],
   "source": [
    "# Example data for experience metrics (replace with your dataset's actual columns)\n",
    "experience_features = data[['Avg RTT DL (ms)', 'Avg RTT UL (ms)', 'TCP DL Retrans. Vol (Bytes)']]\n",
    "\n",
    "# Perform k-means clustering\n",
    "kmeans_experience = KMeans(n_clusters=3, random_state=42)\n",
    "kmeans_experience.fit(experience_features)\n",
    "\n",
    "# Get centroids\n",
    "experience_centroids = kmeans_experience.cluster_centers_\n",
    "print(\"Experience Centroids:\", experience_centroids)"
   ]
  },
  {
   "cell_type": "markdown",
   "metadata": {},
   "source": [
    "ss"
   ]
  },
  {
   "cell_type": "code",
   "execution_count": 33,
   "metadata": {},
   "outputs": [],
   "source": [
    "# Replace these with the actual values derived from k-means\n",
    "engagement_centroid = [engagement_centroids[0]]  # Replace index with \"least engaged\" cluster\n",
    "experience_centroid = [experience_centroids[0]]  # Replace index with \"worst experience\" cluster\n",
    "\n",
    "analysis = UserSatisfactionAnalysis(data, engagement_centroid, experience_centroid)"
   ]
  },
  {
   "cell_type": "code",
   "execution_count": null,
   "metadata": {},
   "outputs": [],
   "source": [
    "data = analysis.calculate_scores(engagement_centroid, experience_centroid)"
   ]
  },
  {
   "cell_type": "code",
   "execution_count": 34,
   "metadata": {},
   "outputs": [
    {
     "ename": "TypeError",
     "evalue": "UserSatisfactionAnalysis.calculate_scores() takes 1 positional argument but 3 were given",
     "output_type": "error",
     "traceback": [
      "\u001b[1;31m---------------------------------------------------------------------------\u001b[0m",
      "\u001b[1;31mTypeError\u001b[0m                                 Traceback (most recent call last)",
      "Cell \u001b[1;32mIn[34], line 2\u001b[0m\n\u001b[0;32m      1\u001b[0m \u001b[38;5;66;03m# Step 3: Calculate Scores\u001b[39;00m\n\u001b[1;32m----> 2\u001b[0m data \u001b[38;5;241m=\u001b[39m \u001b[43manalysis\u001b[49m\u001b[38;5;241;43m.\u001b[39;49m\u001b[43mcalculate_scores\u001b[49m\u001b[43m(\u001b[49m\u001b[43mengagement_centroid\u001b[49m\u001b[43m,\u001b[49m\u001b[43m \u001b[49m\u001b[43mexperience_centroid\u001b[49m\u001b[43m)\u001b[49m\n",
      "\u001b[1;31mTypeError\u001b[0m: UserSatisfactionAnalysis.calculate_scores() takes 1 positional argument but 3 were given"
     ]
    }
   ],
   "source": [
    "# Step 3: Calculate Scores\n",
    "data = analysis.calculate_scores(engagement_centroid, experience_centroid)\n"
   ]
  }
 ],
 "metadata": {
  "kernelspec": {
   "display_name": ".env",
   "language": "python",
   "name": "python3"
  },
  "language_info": {
   "codemirror_mode": {
    "name": "ipython",
    "version": 3
   },
   "file_extension": ".py",
   "mimetype": "text/x-python",
   "name": "python",
   "nbconvert_exporter": "python",
   "pygments_lexer": "ipython3",
   "version": "3.12.3"
  }
 },
 "nbformat": 4,
 "nbformat_minor": 2
}
